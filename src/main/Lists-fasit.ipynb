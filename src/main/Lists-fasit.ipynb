{
 "cells": [
  {
   "metadata": {},
   "cell_type": "markdown",
   "source": "# Kotlin programming"
  },
  {
   "metadata": {},
   "cell_type": "markdown",
   "source": [
    "## Find sublist\n",
    "\n",
    "This function should return a list containing only the numbers that equal or exceed the threshold."
   ]
  },
  {
   "metadata": {
    "collapsed": true,
    "executionRelatedData": {
     "compiledClasses": [
      "Line_3_jupyter",
      "Line_2_jupyter",
      "Line_19_jupyter",
      "Line_2_jupyter",
      "Line_32_jupyter",
      "Line_19_jupyter",
      "Line_2_jupyter"
     ]
    },
    "ExecuteTime": {
     "end_time": "2025-10-28T07:46:38.789996Z",
     "start_time": "2025-10-28T07:46:38.604894Z"
    }
   },
   "cell_type": "code",
   "source": [
    "fun pruneList(list: List<Int>, threshold: Int): List<Int> = list.filter { it >= threshold }\n",
    "\n",
    "require(pruneList(listOf(1, 2, 3, 4, 5, 6), 5) == listOf(5, 6))"
   ],
   "outputs": [],
   "execution_count": 1
  },
  {
   "metadata": {},
   "cell_type": "markdown",
   "source": [
    "## Find smallest element\n",
    "\n",
    "This function should find the smallest element in the list:"
   ]
  },
  {
   "metadata": {
    "executionRelatedData": {
     "compiledClasses": [
      "Line_6_jupyter",
      "Line_3_jupyter",
      "Line_20_jupyter",
      "Line_3_jupyter",
      "Line_3_jupyter"
     ]
    },
    "ExecuteTime": {
     "end_time": "2025-10-28T07:46:38.848620Z",
     "start_time": "2025-10-28T07:46:38.790970Z"
    }
   },
   "cell_type": "code",
   "source": [
    "fun smallest(list: List<Int>): Int = list.min()\n",
    "\n",
    "require(smallest(listOf(5, 3, 2, 4)) == 2)"
   ],
   "outputs": [],
   "execution_count": 2
  },
  {
   "metadata": {},
   "cell_type": "markdown",
   "source": [
    "## Find stats\n",
    "\n",
    "The `stats` function should return more general stats about the list:\n",
    "\n",
    "* Min value\n",
    "* Max value\n",
    "* Sum of all values\n",
    "* Mean of all values\n",
    "\n",
    "We have a `Stats` interface which captures all of these:"
   ]
  },
  {
   "metadata": {
    "executionRelatedData": {
     "compiledClasses": [
      "Line_8_jupyter",
      "Line_14_jupyter",
      "Line_8_jupyter",
      "Line_23_jupyter",
      "Line_8_jupyter",
      "Line_4_jupyter",
      "Line_13_jupyter",
      "Line_4_jupyter",
      "Line_14_jupyter",
      "Line_13_jupyter",
      "Line_16_jupyter",
      "Line_14_jupyter",
      "Line_21_jupyter",
      "Line_16_jupyter",
      "Line_33_jupyter",
      "Line_21_jupyter",
      "Line_37_jupyter",
      "Line_8_jupyter",
      "Line_4_jupyter"
     ]
    },
    "ExecuteTime": {
     "end_time": "2025-10-28T07:46:39.070257Z",
     "start_time": "2025-10-28T07:46:38.849731Z"
    }
   },
   "cell_type": "code",
   "source": [
    "import java.math.BigInteger\n",
    "import kotlin.collections.fold\n",
    "\n",
    "interface Stats {\n",
    "    val min: Int\n",
    "    val max: Int\n",
    "    val sum: Long\n",
    "    val mean: Double\n",
    "}\n",
    "\n",
    "fun stats(list: List<Int>): Stats = object : Stats {\n",
    "    override val min = list.min()\n",
    "    override val max = list.max()\n",
    "    override val sum = list.sumOf { it.toLong() }\n",
    "    override val mean = sum.toDouble() / list.size;\n",
    "}\n",
    "\n",
    "val stats = stats(listOf(1, 2, 3, 4, 5))\n",
    "\n",
    "require(stats.min == 1)\n",
    "require(stats.max == 5)\n",
    "require(stats.mean == 3.0)\n",
    "require(stats.sum == 15L)"
   ],
   "outputs": [],
   "execution_count": 3
  },
  {
   "metadata": {},
   "cell_type": "markdown",
   "source": [
    "## Find stats with provider\n",
    "\n",
    "Did the previous solution make multiple passes through the list?  Or did it rely on sorting the input? If so, we might need a re-think.\n",
    "\n",
    "It turns out the function now needs to handle a case where the list of numbers may be too big to hold in memory. Instead\n",
    "of passing the list, we instead pass a function that returns the next element in a (possibly long) series of numbers.\n",
    "\n",
    "When the series is complete, the function returns `null`, therefore the return type of this function is `() -> Int?`."
   ]
  },
  {
   "metadata": {},
   "cell_type": "markdown",
   "source": [
    "### Subtask: Test support\n",
    "\n",
    "For testing purposes, we need to write small utility function that converts a list into this kind of function. Just for show, we make it an extension function:"
   ]
  },
  {
   "metadata": {
    "executionRelatedData": {
     "compiledClasses": [
      "Line_5_jupyter",
      "Line_6_jupyter",
      "Line_5_jupyter",
      "Line_7_jupyter",
      "Line_6_jupyter",
      "Line_8_jupyter",
      "Line_7_jupyter",
      "Line_24_jupyter",
      "Line_8_jupyter",
      "Line_25_jupyter",
      "Line_40_jupyter",
      "Line_25_jupyter",
      "Line_5_jupyter"
     ]
    },
    "ExecuteTime": {
     "end_time": "2025-10-28T07:46:39.257802Z",
     "start_time": "2025-10-28T07:46:39.104952Z"
    }
   },
   "cell_type": "code",
   "source": [
    "fun List<Int>.provider(): () -> Int? = iterator().run {\n",
    "    { takeIf { hasNext() }?.let { next() } }\n",
    "}\n",
    "\n",
    "val provider = listOf(1, 2, 3).provider()\n",
    "\n",
    "require(provider() == 1)\n",
    "require(provider() == 2)\n",
    "require(provider() == 3)\n",
    "require(provider() == null)"
   ],
   "outputs": [],
   "execution_count": 4
  },
  {
   "metadata": {},
   "cell_type": "markdown",
   "source": [
    "### Main task\n",
    "\n",
    "This revised edition should handle abitrarily long \"lists\", and it relies on our `provider` function for testing purposes:Here is a revised edition which can handle abitrarily long \"lists\", and which relies on our `provider` function for testing purposes:"
   ]
  },
  {
   "metadata": {
    "executionRelatedData": {
     "compiledClasses": [
      "Line_16_jupyter",
      "Line_20_jupyter",
      "Line_16_jupyter",
      "Line_21_jupyter",
      "Line_20_jupyter",
      "Line_22_jupyter",
      "Line_21_jupyter",
      "Line_24_jupyter",
      "Line_22_jupyter",
      "Line_9_jupyter",
      "Line_10_jupyter",
      "Line_9_jupyter",
      "Line_11_jupyter",
      "Line_10_jupyter",
      "Line_12_jupyter",
      "Line_11_jupyter",
      "Line_27_jupyter",
      "Line_12_jupyter",
      "Line_28_jupyter",
      "Line_27_jupyter",
      "Line_34_jupyter",
      "Line_28_jupyter",
      "Line_36_jupyter",
      "Line_34_jupyter",
      "Line_38_jupyter",
      "Line_36_jupyter",
      "Line_39_jupyter",
      "Line_16_jupyter",
      "Line_6_jupyter"
     ]
    },
    "ExecuteTime": {
     "end_time": "2025-10-28T07:46:39.616074Z",
     "start_time": "2025-10-28T07:46:39.298473Z"
    }
   },
   "cell_type": "code",
   "source": [
    "`import java.math.BigInteger\n",
    "\n",
    "interface Stats {\n",
    "    val min: Int\n",
    "    val max: Int\n",
    "    val sum: BigInteger\n",
    "    val mean: Double\n",
    "}\n",
    "\n",
    "data class StatsImpl(\n",
    "    override val min: Int,\n",
    "    override val max: Int,\n",
    "    override val sum: BigInteger,\n",
    "    val count: Int\n",
    ") : Stats {\n",
    "\n",
    "    constructor() : this(Int.MAX_VALUE, Int.MIN_VALUE, BigInteger.ZERO, 0)\n",
    "\n",
    "    override val mean: Double\n",
    "        get() = count.takeIf { it > 0 }\n",
    "            ?.let { (sum.div(it.toBigInteger())).toDouble() }\n",
    "            ?: 0.toDouble()\n",
    "\n",
    "    operator fun plus(i: Int) = StatsImpl(\n",
    "        min(this.min, i),\n",
    "        max(this.max, i),\n",
    "        this.sum + i.toBigInteger(),\n",
    "        this.count + 1\n",
    "    )\n",
    "}\n",
    "\n",
    "fun stats(list: () -> Int?): Stats =\n",
    "    generateSequence(list).fold(StatsImpl()) { stats, integer ->\n",
    "        stats + integer\n",
    "    }\n",
    "\n",
    "fun List<Int>.provider(): () -> Int? = iterator().run {\n",
    "    { takeIf { hasNext() }?.let { next() } }\n",
    "}\n",
    "\n",
    "val provider = listOf(1, 2, 3, 4, 5).provider()\n",
    "\n",
    "val stats = stats(provider)\n",
    "\n",
    "require(stats.min == 1)\n",
    "require(stats.max == 5)\n",
    "require(stats.mean == 3.0)\n",
    "require(stats.sum == 15.toBigInteger())"
   ],
   "outputs": [],
   "execution_count": 5
  },
  {
   "metadata": {},
   "cell_type": "markdown",
   "source": [
    "## Provide a hook\n",
    "\n",
    "In another bizarre twist of fate, it now turns out that our stream processing engine is noticed by our colleagues.  They see it as a stable and mature infrastructure, and they want to \"hook into\" our code with completely arbitary processing logic.  Make it generic!\n",
    "\n",
    "The below example is a simple \"sum\" function which hooks into our wonderful machine, generically named `process`:"
   ]
  },
  {
   "metadata": {
    "executionRelatedData": {
     "compiledClasses": [
      "Line_25_jupyter",
      "Line_26_jupyter",
      "Line_25_jupyter",
      "Line_30_jupyter",
      "Line_25_jupyter",
      "Line_31_jupyter",
      "Line_30_jupyter",
      "Line_35_jupyter",
      "Line_31_jupyter",
      "Line_7_jupyter"
     ]
    },
    "ExecuteTime": {
     "end_time": "2025-10-28T07:46:39.856446Z",
     "start_time": "2025-10-28T07:46:39.619195Z"
    }
   },
   "cell_type": "code",
   "source": [
    "fun <S> process(list: () -> Int?, initial: () -> S, processor: (S, Int) -> S): S =\n",
    "    generateSequence(list).fold(initial(), processor)\n",
    "\n",
    "fun List<Int>.provider(): () -> Int? = iterator().run {\n",
    "    { takeIf { hasNext() }?.let { next() } }\n",
    "}\n",
    "\n",
    "val initial = { 0 }\n",
    "val processor: (Int, Int) -> Int = { i1, i2 -> i1 + i2 }\n",
    "val provider = listOf(1, 2, 3, 4, 5).provider()\n",
    "\n",
    "require(process(provider, initial, processor) == 15)\n"
   ],
   "outputs": [],
   "execution_count": 6
  }
 ],
 "metadata": {
  "kernelspec": {
   "display_name": "Kotlin",
   "language": "kotlin",
   "name": "kotlin"
  },
  "language_info": {
   "name": "kotlin",
   "version": "2.2.20",
   "mimetype": "text/x-kotlin",
   "file_extension": ".kt",
   "pygments_lexer": "kotlin",
   "codemirror_mode": "text/x-kotlin",
   "nbconvert_exporter": ""
  }
 },
 "nbformat": 4,
 "nbformat_minor": 0
}
