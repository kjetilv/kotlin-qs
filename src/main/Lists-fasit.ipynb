{
 "cells": [
  {
   "metadata": {},
   "cell_type": "markdown",
   "source": [
    "# Kotlin programming\n",
    "\n",
    "This function should return a list containing only the numbers that equal or exceed the threshold."
   ]
  },
  {
   "metadata": {
    "collapsed": true,
    "executionRelatedData": {
     "compiledClasses": [
      "Line_3_jupyter",
      "Line_2_jupyter",
      "Line_19_jupyter",
      "Line_2_jupyter",
      "Line_32_jupyter",
      "Line_19_jupyter"
     ]
    },
    "ExecuteTime": {
     "end_time": "2025-10-26T14:05:57.746704Z",
     "start_time": "2025-10-26T14:05:57.707764Z"
    }
   },
   "cell_type": "code",
   "source": [
    "fun pruneList(list: List<Int>, threshold: Int): List<Int> = list.filter { it >= threshold }\n",
    "\n",
    "require(pruneList(listOf(1, 2, 3, 4, 5, 6), 5) == listOf(5, 6))"
   ],
   "outputs": [],
   "execution_count": 31
  },
  {
   "metadata": {},
   "cell_type": "markdown",
   "source": "This function should find the smallest element in the list:"
  },
  {
   "metadata": {
    "executionRelatedData": {
     "compiledClasses": [
      "Line_6_jupyter",
      "Line_3_jupyter",
      "Line_20_jupyter",
      "Line_3_jupyter"
     ]
    },
    "ExecuteTime": {
     "end_time": "2025-10-26T13:55:31.751618Z",
     "start_time": "2025-10-26T13:55:31.720113Z"
    }
   },
   "cell_type": "code",
   "source": [
    "fun smallest(list: List<Int>): Int = list.min()\n",
    "\n",
    "require(smallest(listOf(5, 3, 2, 4)) == 2)"
   ],
   "outputs": [],
   "execution_count": 19
  },
  {
   "metadata": {},
   "cell_type": "markdown",
   "source": [
    "The `stats` function should return more general stats about the list:\n",
    "\n",
    "* Min value\n",
    "* Max value\n",
    "* Sum of all values\n",
    "* Mean of all values\n",
    "\n",
    "We have a `Stats` interface which captures all of these:"
   ]
  },
  {
   "metadata": {
    "executionRelatedData": {
     "compiledClasses": [
      "Line_8_jupyter",
      "Line_14_jupyter",
      "Line_8_jupyter",
      "Line_23_jupyter",
      "Line_8_jupyter",
      "Line_4_jupyter",
      "Line_13_jupyter",
      "Line_4_jupyter",
      "Line_14_jupyter",
      "Line_13_jupyter",
      "Line_16_jupyter",
      "Line_14_jupyter",
      "Line_21_jupyter",
      "Line_16_jupyter",
      "Line_33_jupyter",
      "Line_21_jupyter"
     ]
    },
    "ExecuteTime": {
     "end_time": "2025-10-26T14:07:53.880767Z",
     "start_time": "2025-10-26T14:07:53.800188Z"
    }
   },
   "cell_type": "code",
   "source": [
    "import java.math.BigInteger\n",
    "import kotlin.collections.fold\n",
    "\n",
    "interface Stats {\n",
    "    val min: Int\n",
    "    val max: Int\n",
    "    val sum: Long\n",
    "    val mean: Double\n",
    "}\n",
    "\n",
    "data class StatsImpl(\n",
    "    override val min: Int,\n",
    "    override val max: Int,\n",
    "    override val sum: Long,\n",
    "    override val mean: Double\n",
    ") : Stats\n",
    "\n",
    "fun stats(list: List<Int>): Stats = StatsImpl(\n",
    "    list.min(),\n",
    "    list.max(),\n",
    "    list.sumOf { it.toLong() },\n",
    "    list.sumOf { it.toDouble() } / list.size,\n",
    ")\n",
    "\n",
    "val stats = stats(listOf(1, 2, 3, 4, 5))\n",
    "\n",
    "require(stats.min == 1)\n",
    "require(stats.max == 5)\n",
    "require(stats.mean == 3.0)\n",
    "require(stats.sum == 15L)"
   ],
   "outputs": [],
   "execution_count": 32
  },
  {
   "metadata": {},
   "cell_type": "markdown",
   "source": [
    "Did the solution make multiple passes through the list?  If so, we might need a re-think.\n",
    "\n",
    "It turns out the function now needs to handle a case where the list of numbers may be too big to hold in memory. Instead\n",
    "of passing the list, we instead pass a function that returns the next element in a (possibly long) series of numbers.\n",
    "\n",
    "For testing purposes, we need to write small utility function that converts a list into this kind of function. Just for show, we make it an extension function:"
   ]
  },
  {
   "metadata": {
    "executionRelatedData": {
     "compiledClasses": [
      "Line_5_jupyter",
      "Line_6_jupyter",
      "Line_5_jupyter",
      "Line_7_jupyter",
      "Line_6_jupyter",
      "Line_8_jupyter",
      "Line_7_jupyter",
      "Line_24_jupyter",
      "Line_8_jupyter",
      "Line_25_jupyter"
     ]
    },
    "ExecuteTime": {
     "end_time": "2025-10-26T13:56:38.102848Z",
     "start_time": "2025-10-26T13:56:38.045490Z"
    }
   },
   "cell_type": "code",
   "source": [
    "@Suppress(\"unused\")\n",
    "fun List<Int>.provider(): () -> Int? {\n",
    "    var index = 0\n",
    "    return {\n",
    "        takeIf { index < size }?.let { get(index).also { index++ } }\n",
    "    }\n",
    "}\n",
    "\n",
    "val provider = listOf(1,2,3).provider()\n",
    "\n",
    "require(provider() == 1)\n",
    "require(provider() == 2)\n",
    "require(provider() == 3)\n",
    "require(provider() == null)"
   ],
   "outputs": [],
   "execution_count": 24
  },
  {
   "metadata": {},
   "cell_type": "markdown",
   "source": "Here is a revised edition which can handle abitrarily long \"lists\", and which relies on our `provider` function for testing purposes:"
  },
  {
   "metadata": {
    "executionRelatedData": {
     "compiledClasses": [
      "Line_16_jupyter",
      "Line_20_jupyter",
      "Line_16_jupyter",
      "Line_21_jupyter",
      "Line_20_jupyter",
      "Line_22_jupyter",
      "Line_21_jupyter",
      "Line_24_jupyter",
      "Line_22_jupyter",
      "Line_9_jupyter",
      "Line_10_jupyter",
      "Line_9_jupyter",
      "Line_11_jupyter",
      "Line_10_jupyter",
      "Line_12_jupyter",
      "Line_11_jupyter",
      "Line_27_jupyter",
      "Line_12_jupyter",
      "Line_28_jupyter",
      "Line_27_jupyter",
      "Line_34_jupyter",
      "Line_28_jupyter"
     ]
    },
    "ExecuteTime": {
     "end_time": "2025-10-26T14:09:02.100745Z",
     "start_time": "2025-10-26T14:09:01.914170Z"
    }
   },
   "cell_type": "code",
   "source": [
    "import java.math.BigInteger\n",
    "\n",
    "interface Stats {\n",
    "    val min: Int\n",
    "    val max: Int\n",
    "    val sum: BigInteger\n",
    "    val mean: Double\n",
    "}\n",
    "\n",
    "data class StatsImpl(\n",
    "    override val min: Int,\n",
    "    override val max: Int,\n",
    "    override val sum: BigInteger,\n",
    "    val count: Int\n",
    ") : Stats {\n",
    "\n",
    "    constructor() : this(Int.MAX_VALUE, Int.MIN_VALUE, BigInteger.ZERO, 0)\n",
    "\n",
    "    override val mean: Double\n",
    "        get() = count.takeIf { it > 0 }\n",
    "            ?.let { (sum.div(it.toBigInteger())).toDouble() }\n",
    "            ?: 0.toDouble()\n",
    "\n",
    "    fun plus(i: Int) = StatsImpl(\n",
    "        min(this.min, i),\n",
    "        max(this.max, i),\n",
    "        this.sum + i.toBigInteger(),\n",
    "        this.count + 1\n",
    "    )\n",
    "}\n",
    "\n",
    "fun stats(list: () -> Int?): Stats {\n",
    "    return generateSequence(list).fold(\n",
    "        StatsImpl(),\n",
    "        StatsImpl::plus\n",
    "    )\n",
    "}\n",
    "\n",
    "fun List<Int>.provider(): () -> Int? {\n",
    "    var index = 0\n",
    "    return {\n",
    "        takeIf { index < size }?.let { get(index).also { index++ } }\n",
    "    }\n",
    "}\n",
    "\n",
    "val provider = listOf(1, 2, 3, 4, 5).provider()\n",
    "\n",
    "val stats = stats(provider)\n",
    "\n",
    "require(stats.min == 1)\n",
    "require(stats.max == 5)\n",
    "require(stats.mean == 3.0)\n",
    "require(stats.sum == 15.toBigInteger())"
   ],
   "outputs": [],
   "execution_count": 33
  },
  {
   "metadata": {},
   "cell_type": "markdown",
   "source": [
    "In another bizarre twist of fate, it now turns out that our list traversal logic is noticed by our colleagues.  They see it as a stable and mature infrastructure, and they want to \"hook into\" our code with completely arbitary processing logic.  Make it generic!\n",
    "\n",
    "The below example is a simple \"sum\" function which hooks into our wonderful machine, generically named `process`:"
   ]
  },
  {
   "metadata": {
    "executionRelatedData": {
     "compiledClasses": [
      "Line_25_jupyter",
      "Line_26_jupyter",
      "Line_25_jupyter",
      "Line_30_jupyter",
      "Line_25_jupyter",
      "Line_31_jupyter",
      "Line_30_jupyter"
     ]
    },
    "ExecuteTime": {
     "end_time": "2025-10-26T13:57:50.311805Z",
     "start_time": "2025-10-26T13:57:50.258273Z"
    }
   },
   "cell_type": "code",
   "source": [
    "fun <S> process(list: () -> Int?, initial: () -> S, processor: (S, Int) -> S): S =\n",
    "    generateSequence(list).fold(initial(), processor)\n",
    "\n",
    "fun List<Int>.provider(): () -> Int? {\n",
    "    var index = 0\n",
    "    return {\n",
    "        takeIf { index < size }?.let { get(index).also { index++ } }\n",
    "    }\n",
    "}\n",
    "\n",
    "val initial = { 0 }\n",
    "val processor: (Int, Int) -> Int = { i1, i2 -> i1 + i2 }\n",
    "val provider = listOf(1, 2, 3, 4, 5).provider()\n",
    "\n",
    "require(process(provider, initial, processor) == 15)\n"
   ],
   "outputs": [],
   "execution_count": 30
  }
 ],
 "metadata": {
  "kernelspec": {
   "display_name": "Kotlin",
   "language": "kotlin",
   "name": "kotlin"
  },
  "language_info": {
   "name": "kotlin",
   "version": "2.2.20",
   "mimetype": "text/x-kotlin",
   "file_extension": ".kt",
   "pygments_lexer": "kotlin",
   "codemirror_mode": "text/x-kotlin",
   "nbconvert_exporter": ""
  }
 },
 "nbformat": 4,
 "nbformat_minor": 0
}
